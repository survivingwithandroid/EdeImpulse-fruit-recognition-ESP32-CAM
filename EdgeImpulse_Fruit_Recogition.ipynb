{
  "nbformat": 4,
  "nbformat_minor": 0,
  "metadata": {
    "colab": {
      "name": "Arduino Fruit Recogition.ipynb",
      "provenance": [],
      "collapsed_sections": [],
      "toc_visible": true,
      "authorship_tag": "ABX9TyNJdAEpcg2pxDFHG5eBAlZj",
      "include_colab_link": true
    },
    "kernelspec": {
      "name": "python3",
      "display_name": "Python 3"
    }
  },
  "cells": [
    {
      "cell_type": "markdown",
      "metadata": {
        "id": "view-in-github",
        "colab_type": "text"
      },
      "source": [
        "<a href=\"https://colab.research.google.com/github/survivingwithandroid/EdeImpulse-fruit-recognition-ESP32-CAM/blob/main/EdgeImpulse_Fruit_Recogition.ipynb\" target=\"_parent\"><img src=\"https://colab.research.google.com/assets/colab-badge.svg\" alt=\"Open In Colab\"/></a>"
      ]
    },
    {
      "cell_type": "markdown",
      "metadata": {
        "id": "AlUIBNeC353j"
      },
      "source": [
        "# Download the Fruit dataset from Kaggle"
      ]
    },
    {
      "cell_type": "code",
      "metadata": {
        "id": "TZ9RhF955QdM"
      },
      "source": [
        "!pip install -q kaggle\n",
        "import os\n",
        "os.environ['KAGGLE_USERNAME']='username'\n",
        "os.environ['KAGGLE_KEY']='kaggle_key'\n",
        "\n",
        "# Flower dataset\n",
        "!kaggle datasets download -d alxmamaev/flowers-recognition\n",
        "!unzip flowers-recognition.zip\n",
        "\n",
        "# Fruit dataset\n",
        "!kaggle datasets download -d moltean/fruits\n",
        "!unzip fruits.zip\n",
        "\n"
      ],
      "execution_count": null,
      "outputs": []
    },
    {
      "cell_type": "markdown",
      "metadata": {
        "id": "tkXeHow_8hEv"
      },
      "source": [
        "# Define labels and number of samples"
      ]
    },
    {
      "cell_type": "code",
      "metadata": {
        "id": "Y089GTy_8gjY"
      },
      "source": [
        "# labels\n",
        "labels=['sunflower', 'dandelion', 'tulip']\n",
        "samples=700\n",
        "\n",
        "labels_unknown=['Walnut', 'Blueberry', 'Watermelon']\n",
        "\n",
        "# path\n",
        "base_path = './flowers'\n",
        "\n",
        "# path unknown\n",
        "base_unknown_path = './fruits-360/Training'\n",
        "\n",
        "# output dir\n",
        "out_path = './edge_dataset'"
      ],
      "execution_count": null,
      "outputs": []
    },
    {
      "cell_type": "markdown",
      "metadata": {
        "id": "6LwNAiJs_CfR"
      },
      "source": [
        "# Generate the dataset"
      ]
    },
    {
      "cell_type": "code",
      "metadata": {
        "colab": {
          "base_uri": "https://localhost:8080/"
        },
        "id": "3J0qiTAi_IYI",
        "outputId": "03905809-0641-4651-cf11-bc9b77160018"
      },
      "source": [
        "import random\n",
        "import shutil\n",
        "\n",
        "# Generate directory structure\n",
        "if not os.path.exists(out_path):\n",
        "  print (\"Create dir \" + out_path)\n",
        "  os.mkdir(out_path)\n",
        "\n",
        "for label in labels:\n",
        "  dest = out_path + '/' + label.replace(\" \", \"_\")\n",
        "  if not os.path.exists(dest):\n",
        "    print(\"Create dest dir \", dest)\n",
        "    os.mkdir(dest)\n",
        "\n",
        "# random\n",
        "random.seed();\n",
        "for label in labels:\n",
        "  print(\"Selected word [\"+label+\"]\")\n",
        "  file_list = []\n",
        "  for filename in os.listdir(base_path + '/' + label):\n",
        "   # print(\"Filename: \", filename)\n",
        "   file_list.append(filename)\n",
        "  \n",
        "  random.shuffle(file_list)\n",
        "\n",
        "  for i in range(samples):\n",
        "    src = base_path + '/' + label + '/' + file_list[i]\n",
        "    dest = out_path + '/' + label.replace(\" \", \"_\") + '/' + label + str(i) + '.jpg'\n",
        "    # print (\"Copy from \" + src + \" to \" + dest)\n",
        "    shutil.copyfile(src, dest)\n",
        "  # count files\n",
        "  print(\"Image numbers \", len(os.listdir(out_path + '/' + label.replace(\" \", \"_\"))))"
      ],
      "execution_count": null,
      "outputs": [
        {
          "output_type": "stream",
          "text": [
            "Create dir ./edge_dataset\n",
            "Create dest dir  ./edge_dataset/sunflower\n",
            "Create dest dir  ./edge_dataset/dandelion\n",
            "Create dest dir  ./edge_dataset/tulip\n",
            "Selected word [sunflower]\n",
            "Image numbers  700\n",
            "Selected word [dandelion]\n",
            "Image numbers  700\n",
            "Selected word [tulip]\n",
            "Image numbers  700\n"
          ],
          "name": "stdout"
        }
      ]
    },
    {
      "cell_type": "markdown",
      "metadata": {
        "id": "VVQs-wJWzgPx"
      },
      "source": [
        "# Generate unknow label dataset"
      ]
    },
    {
      "cell_type": "code",
      "metadata": {
        "colab": {
          "base_uri": "https://localhost:8080/"
        },
        "id": "dsp2pCR-zq6s",
        "outputId": "838a6d7d-aec2-463b-ad65-496402e17ca0"
      },
      "source": [
        "samples_per_ul = samples // len(labels_unknown)\n",
        "print(\"Sample per unknown image per label \", samples_per_ul)\n",
        "dest_unknown_path = out_path + '/unknown/';\n",
        "\n",
        "# Generate directory structure\n",
        "if not os.path.exists(dest_unknown_path):\n",
        "  print (\"Create dir \" + dest_unknown_path)\n",
        "  os.mkdir(dest_unknown_path)\n",
        "\n",
        "for ul in labels_unknown:\n",
        "  print(\"Selected word [\"+ul+\"]\")\n",
        "  file_list = []\n",
        "  for filename in os.listdir(base_unknown_path + '/' + ul):\n",
        "   # print(\"Filename: \", filename)\n",
        "   file_list.append(filename)\n",
        "  \n",
        "  print(\"File list size per \" + ul + \", \", len(file_list))\n",
        "  random.shuffle(file_list)\n",
        "  \n",
        "  for i in range(0, samples_per_ul):\n",
        "    src = base_unknown_path + '/' + ul + '/' + file_list[i]\n",
        "    dest = dest_unknown_path + '/' + ul + str(i) + '.jpg'\n",
        "    shutil.copyfile(src, dest)\n",
        "\n",
        "print(\"Image numbers \", len(os.listdir(out_path + '/unknown')))\n"
      ],
      "execution_count": null,
      "outputs": [
        {
          "output_type": "stream",
          "text": [
            "Sample per unknown image per label  233\n",
            "Create dir ./edge_dataset/unknown/\n",
            "Selected word [Walnut]\n",
            "File list size per Walnut,  735\n",
            "Selected word [Blueberry]\n",
            "File list size per Blueberry,  462\n",
            "Selected word [Watermelon]\n",
            "File list size per Watermelon,  475\n",
            "Image numbers  699\n"
          ],
          "name": "stdout"
        }
      ]
    },
    {
      "cell_type": "markdown",
      "metadata": {
        "id": "mVfHzl4KFIjT"
      },
      "source": [
        "# Edge Impluse Dataset Upload"
      ]
    },
    {
      "cell_type": "markdown",
      "metadata": {
        "id": "dAjc4gKlGXON"
      },
      "source": [
        "## Install Edge Impulse CLI"
      ]
    },
    {
      "cell_type": "code",
      "metadata": {
        "id": "UHDkRAAuFO4-"
      },
      "source": [
        "!npm install -g --unsafe-perm edge-impulse-cli"
      ],
      "execution_count": null,
      "outputs": []
    },
    {
      "cell_type": "markdown",
      "metadata": {
        "id": "8ngR91wIGi5M"
      },
      "source": [
        "## Upload dataset"
      ]
    },
    {
      "cell_type": "code",
      "metadata": {
        "id": "3xIgp3G8Goq4"
      },
      "source": [
        "# API Key\n",
        "api_key = 'ei_f8d54933fadbd21e1560707b942b91273fabf5b141a0e55e647eed8f50128fc7'\n",
        "labels.append('unknown')\n",
        "for label in labels:\n",
        "  label = label.replace(\" \", \"_\")\n",
        "  sample_dir = out_path + '/' + label + '/*.jpg'\n",
        "  file_list = []\n",
        "  for filename in os.listdir( out_path + '/' + label + '/'):\n",
        "    _, ext = os.path.splitext(filename)\n",
        "    if (ext.lower() == '.jpg'):\n",
        "     file_list.append(filename)\n",
        " \n",
        "  print(\"Uploading files from \", sample_dir)\n",
        "  print(\"N. Samples \", len(file_list))\n",
        "\n",
        "  cmd = 'edge-impulse-uploader --api-key ' + api_key + ' --label ' + label + ' ' + sample_dir\n",
        "  os.system(cmd)\n",
        "\n",
        "print(\"Done!\");"
      ],
      "execution_count": null,
      "outputs": []
    },
    {
      "cell_type": "markdown",
      "metadata": {
        "id": "CC_Yvdp2Egl3"
      },
      "source": [
        "# Delete all dataset"
      ]
    },
    {
      "cell_type": "code",
      "metadata": {
        "id": "qEtpfC7AEl8Z"
      },
      "source": [
        "!rm -r ./edge_dataset"
      ],
      "execution_count": null,
      "outputs": []
    },
    {
      "cell_type": "code",
      "metadata": {
        "id": "R3BLzbHkErrh"
      },
      "source": [
        "!rm -rf ./fruits-360/"
      ],
      "execution_count": null,
      "outputs": []
    }
  ]
}